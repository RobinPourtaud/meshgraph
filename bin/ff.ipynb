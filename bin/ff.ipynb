{
 "cells": [
  {
   "cell_type": "code",
   "execution_count": 1,
   "metadata": {},
   "outputs": [],
   "source": [
    "# Autoreload\n",
    "%load_ext autoreload\n",
    "%autoreload 2"
   ]
  },
  {
   "cell_type": "code",
   "execution_count": 2,
   "metadata": {},
   "outputs": [
    {
     "name": "stderr",
     "output_type": "stream",
     "text": [
      "\u001b[34m\u001b[1mwandb\u001b[0m: Currently logged in as: \u001b[33mrobinpourtaud\u001b[0m. Use \u001b[1m`wandb login --relogin`\u001b[0m to force relogin\n"
     ]
    },
    {
     "data": {
      "text/html": [
       "Tracking run with wandb version 0.15.4"
      ],
      "text/plain": [
       "<IPython.core.display.HTML object>"
      ]
     },
     "metadata": {},
     "output_type": "display_data"
    },
    {
     "data": {
      "text/html": [
       "Run data is saved locally in <code>/home/robin/meshgraph/wandb/run-20230703_150208-gridiuh3</code>"
      ],
      "text/plain": [
       "<IPython.core.display.HTML object>"
      ]
     },
     "metadata": {},
     "output_type": "display_data"
    },
    {
     "data": {
      "text/html": [
       "Syncing run <strong><a href='https://wandb.ai/robinpourtaud/Mesh-Learning/runs/gridiuh3' target=\"_blank\">magic-sun-7</a></strong> to <a href='https://wandb.ai/robinpourtaud/Mesh-Learning' target=\"_blank\">Weights & Biases</a> (<a href='https://wandb.me/run' target=\"_blank\">docs</a>)<br/>"
      ],
      "text/plain": [
       "<IPython.core.display.HTML object>"
      ]
     },
     "metadata": {},
     "output_type": "display_data"
    },
    {
     "data": {
      "text/html": [
       " View project at <a href='https://wandb.ai/robinpourtaud/Mesh-Learning' target=\"_blank\">https://wandb.ai/robinpourtaud/Mesh-Learning</a>"
      ],
      "text/plain": [
       "<IPython.core.display.HTML object>"
      ]
     },
     "metadata": {},
     "output_type": "display_data"
    },
    {
     "data": {
      "text/html": [
       " View run at <a href='https://wandb.ai/robinpourtaud/Mesh-Learning/runs/gridiuh3' target=\"_blank\">https://wandb.ai/robinpourtaud/Mesh-Learning/runs/gridiuh3</a>"
      ],
      "text/plain": [
       "<IPython.core.display.HTML object>"
      ]
     },
     "metadata": {},
     "output_type": "display_data"
    }
   ],
   "source": [
    "import wandb\n",
    "import os\n",
    "os.environ['WANDB_NOTEBOOK_NAME'] = 'main.ipynb'\n",
    "wandb.init(project=\"Mesh-Learning\")"
   ]
  },
  {
   "cell_type": "code",
   "execution_count": null,
   "metadata": {},
   "outputs": [],
   "source": []
  },
  {
   "cell_type": "code",
   "execution_count": 3,
   "metadata": {},
   "outputs": [
    {
     "name": "stderr",
     "output_type": "stream",
     "text": [
      "Downloading https://data.pyg.org/datasets/MNISTSuperpixels.zip\n",
      "Extracting data/MNISTSuperpixels/raw/MNISTSuperpixels.zip\n",
      "Processing...\n",
      "Done!\n"
     ]
    }
   ],
   "source": [
    "import torch\n",
    "from torch_geometric.datasets import MNISTSuperpixels\n",
    "from torch_geometric import transforms as T\n",
    "def pre_transform(data):\n",
    "    edge_index = data.edge_index\n",
    "    edges_mask = (data.x[edge_index[0]] >= 0.65) & (data.x[edge_index[1]] >= 0.65)\n",
    "    edges_to_keep = torch.nonzero(edges_mask, as_tuple=True)[0]\n",
    "    data.edge_index = edge_index[:, edges_to_keep]\n",
    "    data.x = data.pos\n",
    "    data = T.RemoveIsolatedNodes()(data)\n",
    "    return data\n",
    "data = MNISTSuperpixels(\"data/MNISTSuperpixels\", pre_transform=pre_transform)"
   ]
  },
  {
   "cell_type": "code",
   "execution_count": null,
   "metadata": {},
   "outputs": [],
   "source": [
    "# Import necessary libraries\n",
    "import torch\n",
    "from torch_geometric.utils import to_networkx\n",
    "import networkx as nx\n",
    "import matplotlib.pyplot as plt\n",
    "\n",
    "# Load model\n",
    "encoder = GenericEncoder(GCNConv, 2, 32, 16)\n",
    "decoder = GCNConv(16, 10)\n",
    "model = VGAELightning(encoder, decoder, train_dataset, lr=0.01, batch_size=64)\n",
    "model.load_state_dict(torch.load(\"model.pt\"))\n",
    "model.eval() # Set model to evaluation mode\n",
    "\n",
    "# Sample from the latent space\n",
    "z = torch.randn(1, model.encoder.latent_dim) \n",
    "\n",
    "# Use the decoder to generate a graph\n",
    "generated_graph = model.decoder(z)\n",
    "\n",
    "# Convert the generated graph to networkx for easy visualization\n",
    "nx_graph = to_networkx(generated_graph).to_undirected()\n",
    "\n",
    "# Visualize the generated graph\n",
    "nx.draw(nx_graph, with_labels=True)\n",
    "plt.show()\n"
   ]
  }
 ],
 "metadata": {
  "kernelspec": {
   "display_name": "pytorchenv",
   "language": "python",
   "name": "python3"
  },
  "language_info": {
   "codemirror_mode": {
    "name": "ipython",
    "version": 3
   },
   "file_extension": ".py",
   "mimetype": "text/x-python",
   "name": "python",
   "nbconvert_exporter": "python",
   "pygments_lexer": "ipython3",
   "version": "3.9.16"
  },
  "orig_nbformat": 4
 },
 "nbformat": 4,
 "nbformat_minor": 2
}
