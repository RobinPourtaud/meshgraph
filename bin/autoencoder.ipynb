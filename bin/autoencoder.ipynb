{
 "cells": [
  {
   "cell_type": "code",
   "execution_count": 1,
   "metadata": {},
   "outputs": [],
   "source": [
    "%reload_ext autoreload\n",
    "%autoreload 2"
   ]
  },
  {
   "cell_type": "code",
   "execution_count": null,
   "metadata": {},
   "outputs": [],
   "source": [
    "# tensorboard\n",
    "%load_ext tensorboard --logdir results/logs"
   ]
  },
  {
   "cell_type": "code",
   "execution_count": 1,
   "metadata": {},
   "outputs": [],
   "source": [
    "# import vgae pytorch geometric\n",
    "from torch_geometric.nn import VGAE\n",
    "# GCN, GAT\n",
    "from torch_geometric.nn import GCNConv, GATConv, SAGEConv, GINConv, InnerProductDecoder\n",
    "\n",
    "# torch \n",
    "import torch\n",
    "import torch.nn as nn\n",
    "import torch.nn.functional as F\n",
    "import torch.optim as optim\n",
    "from torch_geometric.loader import DataLoader\n",
    "import pytorch_lightning as pl\n",
    "import torch.multiprocessing as mp\n",
    "\n",
    "# dataset mnist superpixels\n",
    "from torch_geometric.datasets import MNISTSuperpixels\n",
    "\n",
    "# dataset shapenetLocal \n",
    "from experiment.dataset import ShapeNet"
   ]
  },
  {
   "attachments": {},
   "cell_type": "markdown",
   "metadata": {},
   "source": [
    "# Model"
   ]
  },
  {
   "attachments": {},
   "cell_type": "markdown",
   "metadata": {},
   "source": [
    "## Encoder"
   ]
  },
  {
   "cell_type": "code",
   "execution_count": 2,
   "metadata": {},
   "outputs": [],
   "source": [
    "class GenericEncoder(nn.Module):\n",
    "    def __init__(self, ConvLayer, in_channels, hidden_channels, out_channels):\n",
    "        super(GenericEncoder, self).__init__()\n",
    "        self.conv_shared = ConvLayer(in_channels, hidden_channels)\n",
    "        self.conv_mu = ConvLayer(hidden_channels, out_channels)\n",
    "        self.conv_logvar = ConvLayer(hidden_channels, out_channels)\n",
    "\n",
    "    def forward(self, x, edge_index):\n",
    "        x = F.relu(self.conv_shared(x, edge_index))\n",
    "        mu = self.conv_mu(x, edge_index)\n",
    "        logvar = self.conv_logvar(x, edge_index)\n",
    "        return mu, logvar"
   ]
  },
  {
   "attachments": {},
   "cell_type": "markdown",
   "metadata": {},
   "source": [
    "## Decoder"
   ]
  },
  {
   "cell_type": "code",
   "execution_count": 6,
   "metadata": {},
   "outputs": [],
   "source": [
    "# from torch_geometric.transforms import InnerProductDecoder"
   ]
  },
  {
   "attachments": {},
   "cell_type": "markdown",
   "metadata": {},
   "source": [
    "## Autoencoder Node Generation only"
   ]
  },
  {
   "cell_type": "code",
   "execution_count": 3,
   "metadata": {},
   "outputs": [],
   "source": [
    "class VGAELightning(pl.LightningModule):\n",
    "    def __init__(self, encoder, decoder, train_dataset, lr, batch_size):\n",
    "        super(VGAELightning, self).__init__()\n",
    "        self.encoder = encoder\n",
    "        self.decoder = decoder\n",
    "        self.train_dataset = train_dataset\n",
    "        self.batch_size = batch_size\n",
    "        self.lr = lr\n",
    "\n",
    "    def reparametrize(self, mu, logstd):\n",
    "        if self.training:\n",
    "            return mu + torch.randn_like(logstd) * torch.exp(logstd)\n",
    "        else:\n",
    "            return mu\n",
    "\n",
    "    def encode(self, *args, **kwargs):\n",
    "        self.__mu__, self.__logstd__ = self.encoder(*args, **kwargs)\n",
    "        self.__logstd__ = self.__logstd__.clamp(max=10)\n",
    "        z = self.reparametrize(self.__mu__, self.__logstd__)\n",
    "        return z\n",
    "\n",
    "    def decode(self, z, edge_index):\n",
    "        return self.decoder(z, edge_index)\n",
    "    \n",
    "\n",
    "    def kl_loss(self, z, mu, logvar):\n",
    "        return -0.5 * torch.mean(1 + logvar - mu.pow(2) - logvar.exp())\n",
    "\n",
    "    def forward(self, x, edge_index):\n",
    "        z = self.encode(x, edge_index)\n",
    "        return self.decode(z, edge_index)\n",
    "\n",
    "    def training_step(self, batch, batch_idx):\n",
    "        x, edge_index = batch.x, batch.edge_index\n",
    "        z = self.encode(x, edge_index)\n",
    "        loss = self.kl_loss(z, self.__mu__, self.__logstd__)\n",
    "        self.log('train_loss', loss)\n",
    "        \n",
    "        return loss\n",
    "    \n",
    "    def configure_optimizers(self):\n",
    "        optimizer = torch.optim.Adam(self.parameters(), lr=self.lr)\n",
    "        return optimizer\n",
    "    \n",
    "    def train_dataloader(self):\n",
    "        return DataLoader(self.train_dataset, batch_size=self.batch_size, shuffle=True)\n",
    "    \n",
    "    def test_step(self, batch, batch_idx):\n",
    "        x, edge_index = batch.x, batch.edge_index\n",
    "        z = self.encode(x, edge_index)\n",
    "        loss = self.kl_loss(z, self.__mu__, self.__logstd__)\n",
    "        self.log('test_loss', loss)\n",
    "        return loss\n",
    "    \n",
    "    def test_dataloader(self):\n",
    "        return DataLoader(self.train_dataset, batch_size=self.batch_size, shuffle=True)\n",
    "    \n"
   ]
  },
  {
   "attachments": {},
   "cell_type": "markdown",
   "metadata": {},
   "source": [
    "# Autoencoder Node AND Edge Generation"
   ]
  },
  {
   "attachments": {},
   "cell_type": "markdown",
   "metadata": {},
   "source": [
    "# MNIST-Spatial"
   ]
  },
  {
   "cell_type": "code",
   "execution_count": 4,
   "metadata": {},
   "outputs": [],
   "source": [
    "# load dataset MnistSuperpixels\n",
    "train_dataset = MNISTSuperpixels(root='data/MNIST', train=True)\n",
    "test_dataset = MNISTSuperpixels(root='data/MNIST', train=False)\n",
    "\n",
    "# initialize loggger\n",
    "# logger = pl.loggers.TensorBoardLogger('results/logs', name='vgae_mnist')\n",
    "\n",
    "# # load model \n",
    "# encoder = GenericEncoder(GCNConv, 1, 32, 16)\n",
    "# decoder = InnerProductDecoder()\n",
    "# model = VGAELightning(encoder, decoder, train_dataset, lr=0.01, batch_size=64)\n",
    "\n",
    "# # train model\n",
    "# trainer = pl.Trainer(max_epochs=10, devices=1, logger=logger)\n",
    "# trainer.fit(model)\n",
    "\n",
    "# # test model\n",
    "# trainer.test(model)\n",
    "\n",
    "# # save model\n",
    "# torch.save(model.state_dict(), 'vgae_mnist.pt')"
   ]
  },
  {
   "cell_type": "code",
   "execution_count": 5,
   "metadata": {},
   "outputs": [
    {
     "name": "stderr",
     "output_type": "stream",
     "text": [
      "GPU available: True (cuda), used: True\n",
      "TPU available: False, using: 0 TPU cores\n",
      "IPU available: False, using: 0 IPUs\n",
      "HPU available: False, using: 0 HPUs\n",
      "LOCAL_RANK: 0 - CUDA_VISIBLE_DEVICES: [0,1,2]\n",
      "\n",
      "  | Name    | Type                | Params\n",
      "------------------------------------------------\n",
      "0 | encoder | GenericEncoder      | 1.2 K \n",
      "1 | decoder | InnerProductDecoder | 0     \n",
      "------------------------------------------------\n",
      "1.2 K     Trainable params\n",
      "0         Non-trainable params\n",
      "1.2 K     Total params\n",
      "0.005     Total estimated model params size (MB)\n",
      "/home/robin/miniconda3/envs/pytorchenv/lib/python3.9/site-packages/pytorch_lightning/trainer/connectors/data_connector.py:430: PossibleUserWarning: The dataloader, train_dataloader, does not have many workers which may be a bottleneck. Consider increasing the value of the `num_workers` argument` (try 12 which is the number of cpus on this machine) in the `DataLoader` init to improve performance.\n",
      "  rank_zero_warn(\n"
     ]
    },
    {
     "data": {
      "application/vnd.jupyter.widget-view+json": {
       "model_id": "31531bd6937c45f99f5636109f88f2ba",
       "version_major": 2,
       "version_minor": 0
      },
      "text/plain": [
       "Training: 0it [00:00, ?it/s]"
      ]
     },
     "metadata": {},
     "output_type": "display_data"
    },
    {
     "name": "stderr",
     "output_type": "stream",
     "text": [
      "/home/robin/miniconda3/envs/pytorchenv/lib/python3.9/site-packages/pytorch_lightning/trainer/call.py:54: UserWarning: Detected KeyboardInterrupt, attempting graceful shutdown...\n",
      "  rank_zero_warn(\"Detected KeyboardInterrupt, attempting graceful shutdown...\")\n",
      "LOCAL_RANK: 0 - CUDA_VISIBLE_DEVICES: [0,1,2]\n",
      "/home/robin/miniconda3/envs/pytorchenv/lib/python3.9/site-packages/pytorch_lightning/trainer/connectors/data_connector.py:478: PossibleUserWarning: Your `test_dataloader`'s sampler has shuffling enabled, it is strongly recommended that you turn shuffling off for val/test dataloaders.\n",
      "  rank_zero_warn(\n",
      "/home/robin/miniconda3/envs/pytorchenv/lib/python3.9/site-packages/pytorch_lightning/trainer/connectors/data_connector.py:430: PossibleUserWarning: The dataloader, test_dataloader, does not have many workers which may be a bottleneck. Consider increasing the value of the `num_workers` argument` (try 12 which is the number of cpus on this machine) in the `DataLoader` init to improve performance.\n",
      "  rank_zero_warn(\n"
     ]
    },
    {
     "data": {
      "application/vnd.jupyter.widget-view+json": {
       "model_id": "05c4f204cb244f5e8e73a0dc9c38728d",
       "version_major": 2,
       "version_minor": 0
      },
      "text/plain": [
       "Testing: 0it [00:00, ?it/s]"
      ]
     },
     "metadata": {},
     "output_type": "display_data"
    },
    {
     "name": "stderr",
     "output_type": "stream",
     "text": [
      "/home/robin/miniconda3/envs/pytorchenv/lib/python3.9/site-packages/pytorch_lightning/utilities/data.py:76: UserWarning: Trying to infer the `batch_size` from an ambiguous collection. The batch size we found is 4800. To avoid any miscalculations, use `self.log(..., batch_size=batch_size)`.\n",
      "  warning_cache.warn(\n"
     ]
    },
    {
     "name": "stdout",
     "output_type": "stream",
     "text": [
      "────────────────────────────────────────────────────────────────────────────────────────────────────────────────────────\n",
      "       Test metric             DataLoader 0\n",
      "────────────────────────────────────────────────────────────────────────────────────────────────────────────────────────\n",
      "        test_loss          1.480422611166432e-06\n",
      "────────────────────────────────────────────────────────────────────────────────────────────────────────────────────────\n"
     ]
    },
    {
     "name": "stderr",
     "output_type": "stream",
     "text": [
      "/home/robin/miniconda3/envs/pytorchenv/lib/python3.9/site-packages/pytorch_lightning/utilities/data.py:76: UserWarning: Trying to infer the `batch_size` from an ambiguous collection. The batch size we found is 2400. To avoid any miscalculations, use `self.log(..., batch_size=batch_size)`.\n",
      "  warning_cache.warn(\n"
     ]
    }
   ],
   "source": [
    "# load dataset MnistSuperpixels\n",
    "train_dataset = MNISTSuperpixels(root='data/MNIST', train=True)\n",
    "test_dataset = MNISTSuperpixels(root='data/MNIST', train=False)\n",
    "\n",
    "# initialize loggger\n",
    "logger = pl.loggers.TensorBoardLogger('results/logs', name='vgae_mnist')\n",
    "\n",
    "# load model \n",
    "encoder = GenericEncoder(GATConv, 1, 32, 16)\n",
    "decoder = InnerProductDecoder()\n",
    "model = VGAELightning(encoder, decoder, train_dataset, lr=0.01, batch_size=64)\n",
    "\n",
    "# train model\n",
    "trainer = pl.Trainer(max_epochs=10, devices=1, logger=logger)\n",
    "trainer.fit(model)\n",
    "\n",
    "# test model\n",
    "trainer.test(model)\n",
    "\n",
    "# save model\n",
    "torch.save(model.state_dict(), 'vgae_mnist_gat.pt')"
   ]
  },
  {
   "attachments": {},
   "cell_type": "markdown",
   "metadata": {},
   "source": [
    "# Shapenet-Sem"
   ]
  },
  {
   "attachments": {},
   "cell_type": "markdown",
   "metadata": {},
   "source": []
  },
  {
   "attachments": {},
   "cell_type": "markdown",
   "metadata": {},
   "source": [
    "## Viz"
   ]
  },
  {
   "attachments": {},
   "cell_type": "markdown",
   "metadata": {},
   "source": [
    "## MNIST-Superpixel viz"
   ]
  },
  {
   "cell_type": "code",
   "execution_count": 7,
   "metadata": {},
   "outputs": [
    {
     "data": {
      "text/plain": [
       "Data(x=[75, 1], edge_index=[2, 1260], y=[1], pos=[75, 2])"
      ]
     },
     "execution_count": 7,
     "metadata": {},
     "output_type": "execute_result"
    }
   ],
   "source": [
    "data = train_dataset[1]\n",
    "data"
   ]
  },
  {
   "cell_type": "code",
   "execution_count": 10,
   "metadata": {},
   "outputs": [
    {
     "name": "stderr",
     "output_type": "stream",
     "text": [
      "Processing...\n"
     ]
    }
   ],
   "source": [
    "from torch_geometric.data import Data, Dataset\n",
    "import torch\n",
    "\n",
    "class FilteredMNISTSuperpixels(Dataset):\n",
    "    def __init__(self, root, train=True, transform=None, pre_transform=None):\n",
    "        self.train = train\n",
    "        super(FilteredMNISTSuperpixels, self).__init__(root, transform, pre_transform)\n",
    "\n",
    "    @property\n",
    "    def raw_file_names(self):\n",
    "        if self.train:\n",
    "            return ['train_data.pt']\n",
    "        else:\n",
    "            return ['test_data.pt']\n",
    "\n",
    "    @property\n",
    "    def processed_file_names(self):\n",
    "        if self.train:\n",
    "            return ['train_dataset_filtered.pt']\n",
    "        else:\n",
    "            return ['test_dataset_filtered.pt']\n",
    "\n",
    "    def download(self):\n",
    "        pass\n",
    "\n",
    "    def process(self):\n",
    "        for raw_path in self.raw_paths:\n",
    "            dataset = torch.load(raw_path)\n",
    "\n",
    "            data_list = []\n",
    "            for data in dataset:\n",
    "                edges_to_remove = []\n",
    "                nodes_to_remove = []\n",
    "\n",
    "                for edge in data.edge_index.t():\n",
    "                    node1, node2 = edge[0], edge[1]\n",
    "                    distance = min(data.x[node1], data.x[node2])\n",
    "                    if distance < 0.6:\n",
    "                        edges_to_remove.append(edge)\n",
    "                        nodes_to_remove.extend([node1, node2])\n",
    "\n",
    "                # Convert to set to remove any duplicate nodes\n",
    "                nodes_to_remove = set(nodes_to_remove)\n",
    "\n",
    "                # Remove edges\n",
    "                edge_index = torch.tensor([edge for edge in data.edge_index.t() if edge not in edges_to_remove]).t().contiguous()\n",
    "\n",
    "                # Remove nodes\n",
    "                x = torch.tensor([data.x[i] for i in range(data.x.shape[0]) if i not in nodes_to_remove])\n",
    "\n",
    "                data_list.append(Data(x=x, edge_index=edge_index))\n",
    "\n",
    "            torch.save(self.collate(data_list), self.processed_paths[0])\n",
    "\n",
    "    def len(self):\n",
    "        return len(self.processed_dataset)\n",
    "\n",
    "    def get(self, idx):\n",
    "        return self.processed_dataset[idx]\n",
    "\n",
    "filtered_train_dataset = FilteredMNISTSuperpixels(root='data/MNISTFiltered', train=True)\n",
    "filtered_test_dataset = FilteredMNISTSuperpixels(root='data/MNISTFiltered', train=False)\n"
   ]
  },
  {
   "cell_type": "code",
   "execution_count": 1,
   "metadata": {},
   "outputs": [
    {
     "ename": "NameError",
     "evalue": "name 'train_dataset' is not defined",
     "output_type": "error",
     "traceback": [
      "\u001b[0;31m---------------------------------------------------------------------------\u001b[0m",
      "\u001b[0;31mNameError\u001b[0m                                 Traceback (most recent call last)",
      "Cell \u001b[0;32mIn[1], line 12\u001b[0m\n\u001b[1;32m     10\u001b[0m \u001b[39m# Iterate over the first 64 graphs in the dataset\u001b[39;00m\n\u001b[1;32m     11\u001b[0m \u001b[39mfor\u001b[39;00m i \u001b[39min\u001b[39;00m \u001b[39mrange\u001b[39m(\u001b[39m64\u001b[39m):\n\u001b[0;32m---> 12\u001b[0m     data \u001b[39m=\u001b[39m train_dataset[i]\n\u001b[1;32m     14\u001b[0m     \u001b[39m# Create a graph with all edges\u001b[39;00m\n\u001b[1;32m     15\u001b[0m     G \u001b[39m=\u001b[39m to_networkx(data, to_undirected\u001b[39m=\u001b[39m\u001b[39mTrue\u001b[39;00m)\n",
      "\u001b[0;31mNameError\u001b[0m: name 'train_dataset' is not defined"
     ]
    },
    {
     "data": {
      "image/png": "[encoded data removed]",
      "text/plain": [
       "<Figure size 2000x2000 with 1 Axes>"
      ]
     },
     "metadata": {},
     "output_type": "display_data"
    }
   ],
   "source": [
    "import numpy as np\n",
    "import matplotlib.pyplot as plt\n",
    "import networkx as nx\n",
    "from torch_geometric.utils.convert import to_networkx\n",
    "\n",
    "# Create a large figure\n",
    "fig = plt.figure(figsize=(20, 20))\n",
    "plt.title('MNIST Superpixels Original Graphs')\n",
    "\n",
    "# Iterate over the first 64 graphs in the dataset\n",
    "for i in range(64):\n",
    "    data = train_dataset[i]\n",
    "\n",
    "    # Create a graph with all edges\n",
    "    G = to_networkx(data, to_undirected=True)\n",
    "\n",
    "    # Calculate Euclidean distances for each edge and remove edges with distance < 0.6\n",
    "    edges_to_remove = []\n",
    "    node_to_remove = []\n",
    "    for edge in G.edges():\n",
    "        node1, node2 = edge\n",
    "        distance = min(data.x[node1],data.x[node2])\n",
    "        if distance < 0.6:\n",
    "            edges_to_remove.append(edge)\n",
    "\n",
    "    G.remove_edges_from(edges_to_remove)\n",
    "    G.remove_nodes_from(node_to_remove)\n",
    "\n",
    "    node_color = data.x[:,0].numpy()\n",
    "\n",
    "    # Create a subplot in the grid\n",
    "    ax = fig.add_subplot(8, 8, i+1)\n",
    "\n",
    "    pos = data.pos.numpy() # Get node positions\n",
    "\n",
    "    # Set the color map to go from dark to light\n",
    "    cmap = plt.get_cmap('Greys')\n",
    "\n",
    "    # Draw nodes, using the feature values for color\n",
    "    nx.draw_networkx_nodes(G, pos, node_size=40,  cmap=cmap, node_color=node_color, ax=ax)\n",
    "\n",
    "    # Draw edges\n",
    "    nx.draw_networkx_edges(G, pos, alpha=0.3, ax=ax)\n",
    "\n",
    "    # Remove axis\n",
    "    ax.axis('off')\n",
    "\n",
    "    # add title with label \n",
    "    ax.set_title(f'Label: {data.y.item()}', size=8)\n",
    "\n",
    "# Show the figure with all subplots\n",
    "\n",
    "plt.show()\n"
   ]
  },
  {
   "cell_type": "code",
   "execution_count": 84,
   "metadata": {},
   "outputs": [
    {
     "data": {
      "text/plain": [
       "VGAELightning(\n",
       "  (encoder): GenericEncoder(\n",
       "    (conv_shared): GCNConv(1, 32)\n",
       "    (conv_mu): GCNConv(32, 16)\n",
       "    (conv_logvar): GCNConv(32, 16)\n",
       "  )\n",
       "  (decoder): InnerProductDecoder()\n",
       ")"
      ]
     },
     "execution_count": 84,
     "metadata": {},
     "output_type": "execute_result"
    }
   ],
   "source": [
    "model.eval()"
   ]
  },
  {
   "cell_type": "code",
   "execution_count": 85,
   "metadata": {},
   "outputs": [
    {
     "name": "stdout",
     "output_type": "stream",
     "text": [
      "(1260,)\n"
     ]
    }
   ],
   "source": [
    "with torch.no_grad():\n",
    "    z = model.encode(data.x, data.edge_index)\n",
    "    recon = model.decoder(z, data.edge_index).detach().numpy()\n",
    "    print(recon.shape)"
   ]
  },
  {
   "cell_type": "code",
   "execution_count": 86,
   "metadata": {},
   "outputs": [],
   "source": [
    "data = train_dataset[1]\n",
    "    \n",
    "# Disable gradient calculations\n",
    "with torch.no_grad():\n",
    "    # Encode\n",
    "    z = model.encode(data.x, data.edge_index)\n",
    "    # Decode\n",
    "    decoded = model.decoder(z, data.edge_index)"
   ]
  },
  {
   "cell_type": "code",
   "execution_count": 74,
   "metadata": {},
   "outputs": [
    {
     "ename": "ValueError",
     "evalue": "'c' argument has 1399 elements, which is inconsistent with 'x' and 'y' with size 75.",
     "output_type": "error",
     "traceback": [
      "\u001b[0;31m---------------------------------------------------------------------------\u001b[0m",
      "\u001b[0;31mValueError\u001b[0m                                Traceback (most recent call last)",
      "File \u001b[0;32m~/miniconda3/envs/pytorchenv/lib/python3.9/site-packages/matplotlib/axes/_axes.py:4439\u001b[0m, in \u001b[0;36mAxes._parse_scatter_color_args\u001b[0;34m(c, edgecolors, kwargs, xsize, get_next_color_func)\u001b[0m\n\u001b[1;32m   4438\u001b[0m \u001b[39mtry\u001b[39;00m:  \u001b[39m# Is 'c' acceptable as PathCollection facecolors?\u001b[39;00m\n\u001b[0;32m-> 4439\u001b[0m     colors \u001b[39m=\u001b[39m mcolors\u001b[39m.\u001b[39;49mto_rgba_array(c)\n\u001b[1;32m   4440\u001b[0m \u001b[39mexcept\u001b[39;00m (\u001b[39mTypeError\u001b[39;00m, \u001b[39mValueError\u001b[39;00m) \u001b[39mas\u001b[39;00m err:\n",
      "File \u001b[0;32m~/miniconda3/envs/pytorchenv/lib/python3.9/site-packages/matplotlib/colors.py:487\u001b[0m, in \u001b[0;36mto_rgba_array\u001b[0;34m(c, alpha)\u001b[0m\n\u001b[1;32m    486\u001b[0m \u001b[39melse\u001b[39;00m:\n\u001b[0;32m--> 487\u001b[0m     rgba \u001b[39m=\u001b[39m np\u001b[39m.\u001b[39marray([to_rgba(cc) \u001b[39mfor\u001b[39;00m cc \u001b[39min\u001b[39;00m c])\n\u001b[1;32m    489\u001b[0m \u001b[39mif\u001b[39;00m alpha \u001b[39mis\u001b[39;00m \u001b[39mnot\u001b[39;00m \u001b[39mNone\u001b[39;00m:\n",
      "File \u001b[0;32m~/miniconda3/envs/pytorchenv/lib/python3.9/site-packages/matplotlib/colors.py:487\u001b[0m, in \u001b[0;36m<listcomp>\u001b[0;34m(.0)\u001b[0m\n\u001b[1;32m    486\u001b[0m \u001b[39melse\u001b[39;00m:\n\u001b[0;32m--> 487\u001b[0m     rgba \u001b[39m=\u001b[39m np\u001b[39m.\u001b[39marray([to_rgba(cc) \u001b[39mfor\u001b[39;00m cc \u001b[39min\u001b[39;00m c])\n\u001b[1;32m    489\u001b[0m \u001b[39mif\u001b[39;00m alpha \u001b[39mis\u001b[39;00m \u001b[39mnot\u001b[39;00m \u001b[39mNone\u001b[39;00m:\n",
      "File \u001b[0;32m~/miniconda3/envs/pytorchenv/lib/python3.9/site-packages/matplotlib/colors.py:299\u001b[0m, in \u001b[0;36mto_rgba\u001b[0;34m(c, alpha)\u001b[0m\n\u001b[1;32m    298\u001b[0m \u001b[39mif\u001b[39;00m rgba \u001b[39mis\u001b[39;00m \u001b[39mNone\u001b[39;00m:  \u001b[39m# Suppress exception chaining of cache lookup failure.\u001b[39;00m\n\u001b[0;32m--> 299\u001b[0m     rgba \u001b[39m=\u001b[39m _to_rgba_no_colorcycle(c, alpha)\n\u001b[1;32m    300\u001b[0m     \u001b[39mtry\u001b[39;00m:\n",
      "File \u001b[0;32m~/miniconda3/envs/pytorchenv/lib/python3.9/site-packages/matplotlib/colors.py:381\u001b[0m, in \u001b[0;36m_to_rgba_no_colorcycle\u001b[0;34m(c, alpha)\u001b[0m\n\u001b[1;32m    380\u001b[0m \u001b[39mif\u001b[39;00m \u001b[39mnot\u001b[39;00m np\u001b[39m.\u001b[39miterable(c):\n\u001b[0;32m--> 381\u001b[0m     \u001b[39mraise\u001b[39;00m \u001b[39mValueError\u001b[39;00m(\u001b[39mf\u001b[39m\u001b[39m\"\u001b[39m\u001b[39mInvalid RGBA argument: \u001b[39m\u001b[39m{\u001b[39;00morig_c\u001b[39m!r}\u001b[39;00m\u001b[39m\"\u001b[39m)\n\u001b[1;32m    382\u001b[0m \u001b[39mif\u001b[39;00m \u001b[39mlen\u001b[39m(c) \u001b[39mnot\u001b[39;00m \u001b[39min\u001b[39;00m [\u001b[39m3\u001b[39m, \u001b[39m4\u001b[39m]:\n",
      "\u001b[0;31mValueError\u001b[0m: Invalid RGBA argument: 0.5000003576278687",
      "\nThe above exception was the direct cause of the following exception:\n",
      "\u001b[0;31mValueError\u001b[0m                                Traceback (most recent call last)",
      "Cell \u001b[0;32mIn[74], line 45\u001b[0m\n\u001b[1;32m     42\u001b[0m cmap \u001b[39m=\u001b[39m plt\u001b[39m.\u001b[39mget_cmap(\u001b[39m'\u001b[39m\u001b[39mGreys\u001b[39m\u001b[39m'\u001b[39m)\n\u001b[1;32m     44\u001b[0m \u001b[39m# Draw nodes, using the feature values for color\u001b[39;00m\n\u001b[0;32m---> 45\u001b[0m nx\u001b[39m.\u001b[39;49mdraw_networkx_nodes(G, pos, node_size\u001b[39m=\u001b[39;49m\u001b[39m40\u001b[39;49m, cmap\u001b[39m=\u001b[39;49mcmap, node_color\u001b[39m=\u001b[39;49mnode_color, ax\u001b[39m=\u001b[39;49max)\n\u001b[1;32m     47\u001b[0m \u001b[39m# Draw edges\u001b[39;00m\n\u001b[1;32m     48\u001b[0m nx\u001b[39m.\u001b[39mdraw_networkx_edges(G, pos, alpha\u001b[39m=\u001b[39m\u001b[39m0.3\u001b[39m, ax\u001b[39m=\u001b[39max)\n",
      "File \u001b[0;32m~/miniconda3/envs/pytorchenv/lib/python3.9/site-packages/networkx/drawing/nx_pylab.py:433\u001b[0m, in \u001b[0;36mdraw_networkx_nodes\u001b[0;34m(G, pos, nodelist, node_size, node_color, node_shape, alpha, cmap, vmin, vmax, ax, linewidths, edgecolors, label, margins)\u001b[0m\n\u001b[1;32m    430\u001b[0m     node_color \u001b[39m=\u001b[39m apply_alpha(node_color, alpha, nodelist, cmap, vmin, vmax)\n\u001b[1;32m    431\u001b[0m     alpha \u001b[39m=\u001b[39m \u001b[39mNone\u001b[39;00m\n\u001b[0;32m--> 433\u001b[0m node_collection \u001b[39m=\u001b[39m ax\u001b[39m.\u001b[39;49mscatter(\n\u001b[1;32m    434\u001b[0m     xy[:, \u001b[39m0\u001b[39;49m],\n\u001b[1;32m    435\u001b[0m     xy[:, \u001b[39m1\u001b[39;49m],\n\u001b[1;32m    436\u001b[0m     s\u001b[39m=\u001b[39;49mnode_size,\n\u001b[1;32m    437\u001b[0m     c\u001b[39m=\u001b[39;49mnode_color,\n\u001b[1;32m    438\u001b[0m     marker\u001b[39m=\u001b[39;49mnode_shape,\n\u001b[1;32m    439\u001b[0m     cmap\u001b[39m=\u001b[39;49mcmap,\n\u001b[1;32m    440\u001b[0m     vmin\u001b[39m=\u001b[39;49mvmin,\n\u001b[1;32m    441\u001b[0m     vmax\u001b[39m=\u001b[39;49mvmax,\n\u001b[1;32m    442\u001b[0m     alpha\u001b[39m=\u001b[39;49malpha,\n\u001b[1;32m    443\u001b[0m     linewidths\u001b[39m=\u001b[39;49mlinewidths,\n\u001b[1;32m    444\u001b[0m     edgecolors\u001b[39m=\u001b[39;49medgecolors,\n\u001b[1;32m    445\u001b[0m     label\u001b[39m=\u001b[39;49mlabel,\n\u001b[1;32m    446\u001b[0m )\n\u001b[1;32m    447\u001b[0m ax\u001b[39m.\u001b[39mtick_params(\n\u001b[1;32m    448\u001b[0m     axis\u001b[39m=\u001b[39m\u001b[39m\"\u001b[39m\u001b[39mboth\u001b[39m\u001b[39m\"\u001b[39m,\n\u001b[1;32m    449\u001b[0m     which\u001b[39m=\u001b[39m\u001b[39m\"\u001b[39m\u001b[39mboth\u001b[39m\u001b[39m\"\u001b[39m,\n\u001b[0;32m   (...)\u001b[0m\n\u001b[1;32m    453\u001b[0m     labelleft\u001b[39m=\u001b[39m\u001b[39mFalse\u001b[39;00m,\n\u001b[1;32m    454\u001b[0m )\n\u001b[1;32m    456\u001b[0m \u001b[39mif\u001b[39;00m margins \u001b[39mis\u001b[39;00m \u001b[39mnot\u001b[39;00m \u001b[39mNone\u001b[39;00m:\n",
      "File \u001b[0;32m~/miniconda3/envs/pytorchenv/lib/python3.9/site-packages/matplotlib/__init__.py:1442\u001b[0m, in \u001b[0;36m_preprocess_data.<locals>.inner\u001b[0;34m(ax, data, *args, **kwargs)\u001b[0m\n\u001b[1;32m   1439\u001b[0m \u001b[39m@functools\u001b[39m\u001b[39m.\u001b[39mwraps(func)\n\u001b[1;32m   1440\u001b[0m \u001b[39mdef\u001b[39;00m \u001b[39minner\u001b[39m(ax, \u001b[39m*\u001b[39margs, data\u001b[39m=\u001b[39m\u001b[39mNone\u001b[39;00m, \u001b[39m*\u001b[39m\u001b[39m*\u001b[39mkwargs):\n\u001b[1;32m   1441\u001b[0m     \u001b[39mif\u001b[39;00m data \u001b[39mis\u001b[39;00m \u001b[39mNone\u001b[39;00m:\n\u001b[0;32m-> 1442\u001b[0m         \u001b[39mreturn\u001b[39;00m func(ax, \u001b[39m*\u001b[39;49m\u001b[39mmap\u001b[39;49m(sanitize_sequence, args), \u001b[39m*\u001b[39;49m\u001b[39m*\u001b[39;49mkwargs)\n\u001b[1;32m   1444\u001b[0m     bound \u001b[39m=\u001b[39m new_sig\u001b[39m.\u001b[39mbind(ax, \u001b[39m*\u001b[39margs, \u001b[39m*\u001b[39m\u001b[39m*\u001b[39mkwargs)\n\u001b[1;32m   1445\u001b[0m     auto_label \u001b[39m=\u001b[39m (bound\u001b[39m.\u001b[39marguments\u001b[39m.\u001b[39mget(label_namer)\n\u001b[1;32m   1446\u001b[0m                   \u001b[39mor\u001b[39;00m bound\u001b[39m.\u001b[39mkwargs\u001b[39m.\u001b[39mget(label_namer))\n",
      "File \u001b[0;32m~/miniconda3/envs/pytorchenv/lib/python3.9/site-packages/matplotlib/axes/_axes.py:4602\u001b[0m, in \u001b[0;36mAxes.scatter\u001b[0;34m(self, x, y, s, c, marker, cmap, norm, vmin, vmax, alpha, linewidths, edgecolors, plotnonfinite, **kwargs)\u001b[0m\n\u001b[1;32m   4599\u001b[0m \u001b[39mif\u001b[39;00m edgecolors \u001b[39mis\u001b[39;00m \u001b[39mNone\u001b[39;00m:\n\u001b[1;32m   4600\u001b[0m     orig_edgecolor \u001b[39m=\u001b[39m kwargs\u001b[39m.\u001b[39mget(\u001b[39m'\u001b[39m\u001b[39medgecolor\u001b[39m\u001b[39m'\u001b[39m, \u001b[39mNone\u001b[39;00m)\n\u001b[1;32m   4601\u001b[0m c, colors, edgecolors \u001b[39m=\u001b[39m \\\n\u001b[0;32m-> 4602\u001b[0m     \u001b[39mself\u001b[39;49m\u001b[39m.\u001b[39;49m_parse_scatter_color_args(\n\u001b[1;32m   4603\u001b[0m         c, edgecolors, kwargs, x\u001b[39m.\u001b[39;49msize,\n\u001b[1;32m   4604\u001b[0m         get_next_color_func\u001b[39m=\u001b[39;49m\u001b[39mself\u001b[39;49m\u001b[39m.\u001b[39;49m_get_patches_for_fill\u001b[39m.\u001b[39;49mget_next_color)\n\u001b[1;32m   4606\u001b[0m \u001b[39mif\u001b[39;00m plotnonfinite \u001b[39mand\u001b[39;00m colors \u001b[39mis\u001b[39;00m \u001b[39mNone\u001b[39;00m:\n\u001b[1;32m   4607\u001b[0m     c \u001b[39m=\u001b[39m np\u001b[39m.\u001b[39mma\u001b[39m.\u001b[39mmasked_invalid(c)\n",
      "File \u001b[0;32m~/miniconda3/envs/pytorchenv/lib/python3.9/site-packages/matplotlib/axes/_axes.py:4445\u001b[0m, in \u001b[0;36mAxes._parse_scatter_color_args\u001b[0;34m(c, edgecolors, kwargs, xsize, get_next_color_func)\u001b[0m\n\u001b[1;32m   4443\u001b[0m \u001b[39melse\u001b[39;00m:\n\u001b[1;32m   4444\u001b[0m     \u001b[39mif\u001b[39;00m \u001b[39mnot\u001b[39;00m valid_shape:\n\u001b[0;32m-> 4445\u001b[0m         \u001b[39mraise\u001b[39;00m invalid_shape_exception(c\u001b[39m.\u001b[39msize, xsize) \u001b[39mfrom\u001b[39;00m \u001b[39merr\u001b[39;00m\n\u001b[1;32m   4446\u001b[0m     \u001b[39m# Both the mapping *and* the RGBA conversion failed: pretty\u001b[39;00m\n\u001b[1;32m   4447\u001b[0m     \u001b[39m# severe failure => one may appreciate a verbose feedback.\u001b[39;00m\n\u001b[1;32m   4448\u001b[0m     \u001b[39mraise\u001b[39;00m \u001b[39mValueError\u001b[39;00m(\n\u001b[1;32m   4449\u001b[0m         \u001b[39mf\u001b[39m\u001b[39m\"\u001b[39m\u001b[39m'\u001b[39m\u001b[39mc\u001b[39m\u001b[39m'\u001b[39m\u001b[39m argument must be a color, a sequence of colors, \u001b[39m\u001b[39m\"\u001b[39m\n\u001b[1;32m   4450\u001b[0m         \u001b[39mf\u001b[39m\u001b[39m\"\u001b[39m\u001b[39mor a sequence of numbers, not \u001b[39m\u001b[39m{\u001b[39;00mc\u001b[39m!r}\u001b[39;00m\u001b[39m\"\u001b[39m) \u001b[39mfrom\u001b[39;00m \u001b[39merr\u001b[39;00m\n",
      "\u001b[0;31mValueError\u001b[0m: 'c' argument has 1399 elements, which is inconsistent with 'x' and 'y' with size 75."
     ]
    },
    {
     "data": {
      "image/png": "[encoded data removed]",
      "text/plain": [
       "<Figure size 2000x2000 with 2 Axes>"
      ]
     },
     "metadata": {},
     "output_type": "display_data"
    }
   ],
   "source": [
    "# Create a large figure\n",
    "fig = plt.figure(figsize=(20, 20))\n",
    "plt.title('MNIST Superpixels Graphs after VAE')\n",
    "\n",
    "# Ensure the model is in evaluation mode\n",
    "model.eval()\n",
    "\n",
    "# Iterate over the first 64 graphs in the dataset\n",
    "for i in range(64):\n",
    "    data = train_dataset[i]\n",
    "    \n",
    "    # Disable gradient calculations\n",
    "    with torch.no_grad():\n",
    "        # Encode\n",
    "        z = model.encode(data.x, data.edge_index)\n",
    "        # Decode\n",
    "        decoded = model.decoder(z, data.edge_index)\n",
    "\n",
    "    # Create a graph with all edges\n",
    "    G = to_networkx(data, to_undirected=True)\n",
    "\n",
    "    # Calculate Euclidean distances for each edge and remove edges with distance < 0.6\n",
    "    edges_to_remove = []\n",
    "    node_to_remove = []\n",
    "    for edge in G.edges():\n",
    "        node1, node2 = edge\n",
    "        distance = min(decoded[node1],decoded[node2])\n",
    "        if distance < 0.6:\n",
    "            edges_to_remove.append(edge)\n",
    "            \n",
    "\n",
    "    G.remove_edges_from(edges_to_remove)\n",
    "\n",
    "    node_color = decoded[:].numpy()\n",
    "\n",
    "    # Create a subplot in the grid\n",
    "    ax = fig.add_subplot(8, 8, i+1)\n",
    "\n",
    "    pos = data.pos.numpy() # Get node positions\n",
    "\n",
    "    # Set the color map to go from dark to light\n",
    "    cmap = plt.get_cmap('Greys')\n",
    "\n",
    "    # Draw nodes, using the feature values for color\n",
    "    nx.draw_networkx_nodes(G, pos, node_size=40, cmap=cmap, node_color=node_color, ax=ax)\n",
    "\n",
    "    # Draw edges\n",
    "    nx.draw_networkx_edges(G, pos, alpha=0.3, ax=ax)\n",
    "\n",
    "    # Remove axis\n",
    "    ax.axis('off')\n",
    "\n",
    "    # add title with label \n",
    "    ax.set_title(f'Label: {data.y.item()}', size=8)\n",
    "\n",
    "# Show the figure with all subplots\n",
    "plt.show()\n"
   ]
  },
  {
   "cell_type": "code",
   "execution_count": null,
   "metadata": {},
   "outputs": [],
   "source": []
  },
  {
   "attachments": {},
   "cell_type": "markdown",
   "metadata": {},
   "source": []
  },
  {
   "cell_type": "code",
   "execution_count": null,
   "metadata": {},
   "outputs": [],
   "source": []
  }
 ],
 "metadata": {
  "kernelspec": {
   "display_name": "pytorchenv",
   "language": "python",
   "name": "python3"
  },
  "language_info": {
   "codemirror_mode": {
    "name": "ipython",
    "version": 3
   },
   "file_extension": ".py",
   "mimetype": "text/x-python",
   "name": "python",
   "nbconvert_exporter": "python",
   "pygments_lexer": "ipython3",
   "version": "3.9.16"
  },
  "orig_nbformat": 4
 },
 "nbformat": 4,
 "nbformat_minor": 2
}
